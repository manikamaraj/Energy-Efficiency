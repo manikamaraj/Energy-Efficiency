{
 "cells": [
  {
   "cell_type": "code",
   "execution_count": 1,
   "id": "c19211f3-d299-4725-ad4c-bf1048297393",
   "metadata": {},
   "outputs": [],
   "source": [
    "import pandas as pd \n",
    "import numpy as np \n",
    "import matplotlib.pyplot as plt "
   ]
  },
  {
   "cell_type": "code",
   "execution_count": 3,
   "id": "a6efe90b-a95e-44ed-94f9-ba812cdefd0f",
   "metadata": {},
   "outputs": [],
   "source": [
    "dataset=pd.read_csv(\"ENB.csv\")\n",
    "X=dataset.iloc[:,:-2].values\n",
    "y=dataset.iloc[:,8:10].values"
   ]
  },
  {
   "cell_type": "code",
   "execution_count": 5,
   "id": "21d56359-b772-4293-ad54-5a06187c8abe",
   "metadata": {},
   "outputs": [],
   "source": [
    "from sklearn.model_selection import train_test_split\n",
    "X_train,X_test,y_train,y_test=train_test_split(X,y,test_size=0.2,random_state=0)"
   ]
  },
  {
   "cell_type": "code",
   "execution_count": 27,
   "id": "d7776866-be10-4272-93b5-b77a322be731",
   "metadata": {},
   "outputs": [],
   "source": [
    "from sklearn.ensemble import RandomForestRegressor\n",
    "regressor=RandomForestRegressor(n_estimators=500,random_state=0)\n",
    "regressor.fit(X_train,y_train)\n",
    "y_pred=regressor.predict(X_test)"
   ]
  },
  {
   "cell_type": "code",
   "execution_count": 28,
   "id": "ac22dc31-8bd6-4989-b06b-1e54f7046bad",
   "metadata": {},
   "outputs": [
    {
     "data": {
      "text/plain": [
       "0.9772331557120442"
      ]
     },
     "execution_count": 28,
     "metadata": {},
     "output_type": "execute_result"
    }
   ],
   "source": [
    "from sklearn.metrics import r2_score\n",
    "r2_score(y_test,y_pred)"
   ]
  },
  {
   "cell_type": "code",
   "execution_count": null,
   "id": "f6320950-bd89-4710-8ef7-fcab322ee897",
   "metadata": {},
   "outputs": [],
   "source": []
  }
 ],
 "metadata": {
  "kernelspec": {
   "display_name": "Python 3 (ipykernel)",
   "language": "python",
   "name": "python3"
  },
  "language_info": {
   "codemirror_mode": {
    "name": "ipython",
    "version": 3
   },
   "file_extension": ".py",
   "mimetype": "text/x-python",
   "name": "python",
   "nbconvert_exporter": "python",
   "pygments_lexer": "ipython3",
   "version": "3.12.4"
  }
 },
 "nbformat": 4,
 "nbformat_minor": 5
}
